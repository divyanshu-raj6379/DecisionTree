{
  "nbformat": 4,
  "nbformat_minor": 0,
  "metadata": {
    "colab": {
      "provenance": []
    },
    "kernelspec": {
      "name": "python3",
      "display_name": "Python 3"
    },
    "language_info": {
      "name": "python"
    }
  },
  "cells": [
    {
      "cell_type": "markdown",
      "source": [
        "# Splitting measures\n",
        "\n",
        "With more than one attribute taking part in the decision-making process, it is necessary to decide the relevance and importance of each of the attributes present in a dataset. Thus, we want to place the most relevant feature at the root node and further traverse down by splitting the nodes.\n",
        "\n",
        "As we move further down the tree, the level of impurity or uncertainty decreases, thus leading to a better classification or best split at every node. Splitting measures such as Information gain, Gini Index, etc. are used to decide the same."
      ],
      "metadata": {
        "id": "KGsYpicCy1HL"
      }
    },
    {
      "cell_type": "markdown",
      "source": [
        "## 1. Gini Impurity: it measures the degree or probability of a particular variable being wrongly classified when it is randomly chosen.\n",
        "$G(\\mathcal{S}) = 1-\\sum_{i \\in \\mathcal {C}}p_{i}^2$, \\\n",
        "where \\\n",
        "$\\mathcal {C}$ is set of classes in dataset $\\mathcal{S}$ and \\\n",
        "$p_{i}$ is the proportion of class $i$ in $\\mathcal{S}$"
      ],
      "metadata": {
        "id": "9SZjirc8oOhK"
      }
    },
    {
      "cell_type": "markdown",
      "source": [
        "## 2. Entropy: It is a measure of the amount of uncertainty in the (data) set $\\mathcal{S}$ \n",
        "$H(\\mathcal{S})=-\\sum_{i\\in \\mathcal {C}}p_{i}\\log_{2}(p_{i})$,  \\\n",
        "where \\\n",
        "$\\mathcal {C}$ is set of classes in dataset $\\mathcal{S}$ and \\\n",
        "$p_{i}$ is the proportion of class $i$ in $\\mathcal{S}$"
      ],
      "metadata": {
        "id": "XJf4ABZJqQwF"
      }
    },
    {
      "cell_type": "markdown",
      "source": [
        "## 3. Information Gain on an attribute $\\mathcal{A}$ of $\\mathcal{S}$ is the measure of the difference in entropy from before to after the set $\\mathcal{S}$ is split on the attribute $\\mathcal{A}$ into subsets $\\mathcal{S_{1}}$, $\\mathcal{S_{2}}$,$...$, $\\mathcal{S_{m}}$\n",
        "$IG(\\mathcal{S},\\mathcal{A})=H(\\mathcal{S})-\\sum_{j=1}^{m}H(\\mathcal{S}|\\mathcal{S}_{j})$, where $H(\\mathcal{S}|\\mathcal{S}_{j})=\\frac{\\mid\\mathcal{S}_{j}\\mid}{\\mid \\mathcal{S} \\mid}.H(\\mathcal{S}_{j})$"
      ],
      "metadata": {
        "id": "5FpEdOAFvbfu"
      }
    },
    {
      "cell_type": "markdown",
      "source": [
        "# ID3 Algorithm - \n",
        "ID3 stands for Iterative Dichotomiser 3 and is named such because the algorithm iteratively (repeatedly) dichotomizes(divides) features into two or more groups at each step.\n",
        "\n",
        "Invented by Ross Quinlan, ID3 uses a top-down greedy approach to build a decision tree. In simple words, the top-down approach means that we start building the tree from the top and the greedy approach means that at each iteration we select the best feature at the present moment to create a node.\n",
        "\n",
        "Most generally ID3 is only used for classification problems with nominal features only.\n",
        "\n",
        "Steps:\\\n",
        "$***$\\\n",
        "$1.$ Calculate the Information Gain of each feature.\\\n",
        "$2.$ Considering that all rows don’t belong to the same class, split the dataset $S$ into subsets using the feature for which the Information Gain is maximum.\\\n",
        "$3.$ Make a decision tree node using the feature with the maximum Information gain.\\\n",
        "$4.$ If all rows belong to the same class, make the current node as a leaf node with the class as its label.\\\n",
        "$5.$ Repeat for the remaining features until we run out of all features, or the decision tree has all leaf nodes."
      ],
      "metadata": {
        "id": "hRExuMjv2Hhu"
      }
    },
    {
      "cell_type": "code",
      "source": [],
      "metadata": {
        "id": "3LN-F3ewonLa"
      },
      "execution_count": null,
      "outputs": []
    }
  ]
}